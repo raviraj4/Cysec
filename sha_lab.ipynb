{
 "cells": [
  {
   "cell_type": "code",
   "execution_count": 6,
   "id": "fec46dcf-0c55-4077-bd7b-73de162012d9",
   "metadata": {},
   "outputs": [],
   "source": [
    "from Crypto.Signature import PKCS1_v1_5\n",
    "from Crypto.Hash import SHA256\n",
    "from Crypto.PublicKey import RSA\n",
    "from Crypto import Random"
   ]
  },
  {
   "cell_type": "code",
   "execution_count": null,
   "id": "274e74ed-a94b-4db5-89d2-e9579e5215bf",
   "metadata": {},
   "outputs": [],
   "source": [
    "def generate_signature(priv_key ,msg):\n",
    "    key = RSA.importKey(priv_key)\n",
    "    hashed_msg = SHA256.new(message.encode('utf-8'))\n",
    "    signer = PKCS1_v1_5.new(key)\n",
    "    signature = signer.sign(hashed_msg)\n",
    "    return signature    "
   ]
  },
  {
   "cell_type": "code",
   "execution_count": 14,
   "id": "55e62867-2e6e-4e20-9d52-77273e9a1001",
   "metadata": {},
   "outputs": [],
   "source": [
    "def verify_sign(pub_key, msg, signature):\n",
    "    key = RSA.importKey(pub_key)\n",
    "    hashed_msg = SHA256.new(message.encode('utf-8'))\n",
    "    verifier = PKCS1_v1_5.new(key)\n",
    "    return verifier.verify(hashed_msg, signature)"
   ]
  },
  {
   "cell_type": "code",
   "execution_count": 15,
   "id": "bf23415b-1f0b-4deb-b05c-1db54b1ebc28",
   "metadata": {},
   "outputs": [],
   "source": [
    "# generate RSA key pair\n",
    "random_generator = Random.new().read\n",
    "key_pair = RSA.generate(2048, random_generator)"
   ]
  },
  {
   "cell_type": "code",
   "execution_count": 16,
   "id": "e51b3412-1b6d-4b54-9e3d-4d1d41c56bdf",
   "metadata": {},
   "outputs": [],
   "source": [
    "# extract public key and private key\n",
    "public_k = key_pair.publickey().export_key()\n",
    "private_k = key_pair.export_key() "
   ]
  },
  {
   "cell_type": "code",
   "execution_count": 17,
   "id": "380b8b39-bc1c-4ef7-aad7-77d974fbb522",
   "metadata": {},
   "outputs": [],
   "source": [
    "message = \"hello, namaste\"\n",
    "signature = generate_signature(priv_key=private_k, msg=message )\n",
    "is_valid = verify_sign(pub_key=public_k, msg=message, signature=signature)"
   ]
  },
  {
   "cell_type": "code",
   "execution_count": 25,
   "id": "f8088338-1b24-4aa8-a928-eb8a5f29a0a3",
   "metadata": {},
   "outputs": [
    {
     "name": "stdout",
     "output_type": "stream",
     "text": [
      "signature:\n",
      " b'1Ri\\\\\\x14\\xa6\\xff\\x7f\\x91\\xf0\\x81\\xebfz\\x90\\xb8\\xa4{\\'.\\xcc\\xd4G\\xd3=\\xcb\\xc3cs\\x0e\\x98\\x03\\x8dR\\xbb\\xf9\\x08\\xb7\\x93\\xb0\\x89W\\x85\\xf1\\x83n[K\\xdd\\x98\\xea\\x06\\xb5X(<\\xa0\\xdc\\xfa\"\\xe6e&~\\xe1zz\\xff\\xb6\\xc1\\x917r\\xdbP\\xf5\\xfdhe\\xeb|\\x9c^I\\x8b9\\xf4\\xdc\\xce\\x80\\xd1nE\\xba\\xc5\\x07mY\\x18\\r\\xa4(N\\x8f\\xe3\\x9e\\xc0\\x06\\xe2\\x17\\x9b\\xa3\\xdf\\xd9ge\\x07\\xd3X&\\x05\\xcd\\x958\\xa7\\xfd\\xe8\\xd0y\\xd8\\xc3\\x0e\\x91\\x9f\\xe17\\xbc\\rC\\xb7R\\xecBZ\\xe0\\xb2\\xd5\\xcf\\x04d\\xdf\\xaf\\xe0\\xc2/\\xd7\\x12\\x91n8\\xf6\\xfc\\xfe\\x89F\\xc0\\xf3D)5\\xa1\\x04\\xa1\\xd5\\x03\\t\\xb9\\xf7\\xe8\\xda\\xa4_\\xa3\\xad\\x05+\\xb8\\xfbss<b\\xce=\\x08n\\xe0\\x96\\x90`\\xc4?\\xaf\\xd6\\xa7\\xa7\\x98\\xa0\\xff\\x897\\x18\\t-v\\x97:_\\xf0\\x8en\\xc1\\x8e\\x14\\xf00o\\x03\\xe6\\xdf\\xeb9\\x946\\xfb\\xbd\\xf4\\x88\\x95\\xb5\\xec\\xc5\\xe0\\xbb\\x0f\\x00\\x04\\xb7j\\xa8\\x99\\x81\\x1a5\\xeeh' \n",
      "____\n",
      "is_valid ?? \n",
      "True\n"
     ]
    }
   ],
   "source": [
    "print(f\"signature:\\n {signature} \\n____\\nis_valid ?? \\n{is_valid}\")"
   ]
  },
  {
   "cell_type": "code",
   "execution_count": null,
   "id": "4357837a-6c2c-4668-8b38-067b53cfc4b6",
   "metadata": {},
   "outputs": [],
   "source": []
  }
 ],
 "metadata": {
  "kernelspec": {
   "display_name": "Python 3 (ipykernel)",
   "language": "python",
   "name": "python3"
  },
  "language_info": {
   "codemirror_mode": {
    "name": "ipython",
    "version": 3
   },
   "file_extension": ".py",
   "mimetype": "text/x-python",
   "name": "python",
   "nbconvert_exporter": "python",
   "pygments_lexer": "ipython3",
   "version": "3.10.6"
  }
 },
 "nbformat": 4,
 "nbformat_minor": 5
}
